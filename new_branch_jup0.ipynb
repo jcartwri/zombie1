{
 "cells": [
  {
   "cell_type": "markdown",
   "metadata": {},
   "source": [
    "# План:\n",
    "1. Python\n",
    "2. Numpy\n",
    "3. Pandas\n",
    "4. Regexp + regexp with dataframes\n",
    "5. Texts\n",
    "6. Matplotlib, Seaborn\n",
    "7. Classification, clustering, binary, multiclass, multilabel\n",
    "8. Metrics\n",
    "9. Feature extraction\n",
    "10. Pyspark/sql"
   ]
  },
  {
   "cell_type": "markdown",
   "metadata": {},
   "source": [
    "<img src=\"gifs/start.gif\" width=\"400\">"
   ]
  },
  {
   "cell_type": "markdown",
   "metadata": {},
   "source": [
    "# Python\n",
    "\n",
    "* Целая куча упражнений на типы данных\\операторы и функции\n",
    "\n",
    "https://www.w3resource.com/python-exercises/"
   ]
  },
  {
   "cell_type": "markdown",
   "metadata": {},
   "source": [
    "Типы данных:\n",
    "    * Числа (7382, 3.14, 3+4j, Decimal, Fraction)\n",
    "    * Строки ('net', \"your's\", u'радость')\n",
    "    * Списки ([1, [2, 'three'], 4])\n",
    "    * Словари ({'Alex': 2, 'Brian': 4})\n",
    "    * Кортежи ('Leo', 21.7, 'single')\n",
    "    * Множества (set(1,2,3), {'a', 'b', 'c'})\n",
    "    * Файлы (open('myfile', 'r'))"
   ]
  },
  {
   "cell_type": "markdown",
   "metadata": {},
   "source": [
    "1. Склеить 3 подстроки \"ada\", \"lovelace\", \"was considered the world's first computer programmer.\". Первые две строки сделать с большой буквы.  (★☆☆)"
   ]
  },
  {
   "cell_type": "code",
   "execution_count": 3,
   "metadata": {},
   "outputs": [
    {
     "data": {
      "text/plain": [
       "\"AdaLovelacewas considered the world's first computer programmer.\""
      ]
     },
     "execution_count": 3,
     "metadata": {},
     "output_type": "execute_result"
    }
   ],
   "source": [
    "str1 = \"ada\".title()\n",
    "str2 = \"lovelace\".title()\n",
    "str3 = \"was considered the world's first computer programmer.\"\n",
    "str1+str2+ str3\n"
   ]
  },
  {
   "cell_type": "markdown",
   "metadata": {},
   "source": [
    "2. Удаление лишних пробельных символов справа, слева, с обоих сторон  (☆☆☆)"
   ]
  },
  {
   "cell_type": "code",
   "execution_count": 11,
   "metadata": {},
   "outputs": [
    {
     "name": "stdout",
     "output_type": "stream",
     "text": [
      "123\n",
      "123\n",
      "\n",
      "#####\n",
      "  \n",
      "123\n",
      "123\n",
      "#####\n",
      "123\n",
      "123\n",
      "#####\n"
     ]
    }
   ],
   "source": [
    "str1 = \"  \\n123\\n123\\n\"\n",
    "print(str1.lstrip())\n",
    "print('#####')\n",
    "print(str1.rstrip())\n",
    "print('#####')\n",
    "print(str1.strip())\n",
    "print('#####')"
   ]
  },
  {
   "cell_type": "markdown",
   "metadata": {},
   "source": [
    "3. Найти первое вхождение в строку подстроки (☆☆☆)"
   ]
  },
  {
   "cell_type": "code",
   "execution_count": 20,
   "metadata": {},
   "outputs": [
    {
     "data": {
      "text/plain": [
       "7"
      ]
     },
     "execution_count": 20,
     "metadata": {},
     "output_type": "execute_result"
    }
   ],
   "source": [
    "s1=\"But if you stick with me, I’m gonna accomplish great things, Morty, and you’re gonna be part of ’em.\"\n",
    "s2=\"you\"\n",
    "s1.find(s2)\n",
    "##your code"
   ]
  },
  {
   "cell_type": "markdown",
   "metadata": {},
   "source": [
    "* isdigit - состоит ли строка из цифр;\n",
    "* isalpha - состоит ли строка из букв;\n",
    "* isalnum - состоит ли строка из цифр или букв;\n",
    "* islower - состоит ли строка из символов в нижнем регистре;\n",
    "* isupper - состоит ли строка из символов в верхнем регистре;\n",
    "* istitle - начинаются ли слова в строке с заглавной буквы."
   ]
  },
  {
   "cell_type": "markdown",
   "metadata": {},
   "source": [
    "4. Разбить строку по разделителю (☆☆☆)"
   ]
  },
  {
   "cell_type": "code",
   "execution_count": 22,
   "metadata": {},
   "outputs": [
    {
     "data": {
      "text/plain": [
       "['Holy',\n",
       " 'cow,',\n",
       " 'Rick!',\n",
       " 'I',\n",
       " 'didn’t',\n",
       " 'know',\n",
       " 'hanging',\n",
       " 'out',\n",
       " 'with',\n",
       " 'you',\n",
       " 'was',\n",
       " 'making',\n",
       " 'me',\n",
       " 'smarter!']"
      ]
     },
     "execution_count": 22,
     "metadata": {},
     "output_type": "execute_result"
    }
   ],
   "source": [
    "s1=\"Holy#cow,#Rick!#I#didn’t#know#hanging#out#with#you#was#making#me#smarter!\"\n",
    "mas = s1.split('#')\n",
    "mas\n",
    "##your code"
   ]
  },
  {
   "cell_type": "markdown",
   "metadata": {},
   "source": [
    "5. Полученный массив строк склеить через пробел (★☆☆)"
   ]
  },
  {
   "cell_type": "code",
   "execution_count": 24,
   "metadata": {},
   "outputs": [
    {
     "data": {
      "text/plain": [
       "'Holy cow, Rick! I didn’t know hanging out with you was making me smarter!'"
      ]
     },
     "execution_count": 24,
     "metadata": {},
     "output_type": "execute_result"
    }
   ],
   "source": [
    "' '.join(mas)"
   ]
  },
  {
   "cell_type": "markdown",
   "metadata": {},
   "source": [
    "6. Вывести данные из словаря в три строки в виде \"NAME (age AGE) is a JOB\" (★☆☆)\n",
    "\n",
    "(hint: .format())"
   ]
  },
  {
   "cell_type": "code",
   "execution_count": 31,
   "metadata": {},
   "outputs": [
    {
     "name": "stdout",
     "output_type": "stream",
     "text": [
      "Ann (age 29) is a Artist\n",
      "\n",
      "Leo (age 54) is a Programmer\n",
      "\n",
      "Tiffany (age 43) is a Shop Assistant\n",
      "\n"
     ]
    }
   ],
   "source": [
    "personal_data = {1: (\"Ann\", 29, \"Artist\"), \n",
    "               2: (\"Leo\", 54, \"Programmer\"), \n",
    "               3: (\"Tiffany\", 43, \"Shop Assistant\")}\n",
    "\n",
    "def fun(name, age, job):\n",
    "    print(name + ' (age ' + str(age) + ') is a ' + job + '\\n')\n",
    "\n",
    "#TODO: Повторять функцию три раза подряд не круто\n",
    "fun(personal_data[1][0], personal_data[1][1], personal_data[1][2])\n",
    "fun(personal_data[2][0], personal_data[2][1], personal_data[2][2])\n",
    "fun(personal_data[3][0], personal_data[3][1], personal_data[3][2])\n",
    "##your code"
   ]
  },
  {
   "cell_type": "code",
   "execution_count": 4,
   "metadata": {},
   "outputs": [
    {
     "name": "stdout",
     "output_type": "stream",
     "text": [
      "Ann (age 29) is a Artist\n",
      "Leo (age 54) is a Programmer\n",
      "Tiffany (age 43) is a Shop Assistant\n"
     ]
    }
   ],
   "source": [
    "personal_data = {1: (\"Ann\", 29, \"Artist\"), \n",
    "               2: (\"Leo\", 54, \"Programmer\"), \n",
    "               3: (\"Tiffany\", 43, \"Shop Assistant\")}\n",
    "for i in personal_data.keys():\n",
    "    print(\"{0} (age {1}) is a {2}\".format(personal_data[i][0], personal_data[i][1], personal_data[i][2]))"
   ]
  },
  {
   "cell_type": "markdown",
   "metadata": {},
   "source": [
    "7. Требуется определить, является ли данный год високосным. (год является високосным, если его номер кратен 4, но не кратен 100, а также если он кратен 400.)  (★★☆)\n",
    "\n",
    "Входные данные: Вводится единственное число - номер года (целое, положительное, не превышает 30000).\n",
    "\n",
    "Выходные данные: Требуется вывести слово YES, если год является високосным и NO - в противном случае."
   ]
  },
  {
   "cell_type": "code",
   "execution_count": 34,
   "metadata": {},
   "outputs": [
    {
     "name": "stdout",
     "output_type": "stream",
     "text": [
      "Yes\n"
     ]
    }
   ],
   "source": [
    "def visokosn_year(year):\n",
    "    if (year % 400 == 0):\n",
    "        print('Yes')\n",
    "    elif((year % 100 != 0) and (year % 4 == 0)):\n",
    "        print('Yes')\n",
    "    else:\n",
    "        print('No')\n",
    "\n",
    "visokosn_year(108)"
   ]
  },
  {
   "cell_type": "markdown",
   "metadata": {},
   "source": [
    "8. Закодируйте каждый элемент списка слов числом, результат сопоставления (слово-число) поместите в словарь.  (★☆☆)"
   ]
  },
  {
   "cell_type": "code",
   "execution_count": 36,
   "metadata": {},
   "outputs": [
    {
     "data": {
      "text/plain": [
       "{'0': 'Not', '10': 'my', '20': 'cup', '30': 'of', '40': 'tea'}"
      ]
     },
     "execution_count": 36,
     "metadata": {},
     "output_type": "execute_result"
    }
   ],
   "source": [
    "words = ['Not', 'my', 'cup', 'of', 'tea']\n",
    "dic = {}\n",
    "index = 0;\n",
    "for i in words:\n",
    "    dic[str(index)] = i\n",
    "    index = index + 10\n",
    "dic\n",
    "\n",
    "##your code"
   ]
  },
  {
   "cell_type": "markdown",
   "metadata": {},
   "source": [
    "9. Удалить второй элемент из списка по индексу\\по значению  (★☆☆)"
   ]
  },
  {
   "cell_type": "code",
   "execution_count": 40,
   "metadata": {},
   "outputs": [
    {
     "name": "stdout",
     "output_type": "stream",
     "text": [
      "['australian cattle dog', 'labrador retriever']\n",
      "['border collie', 'labrador retriever']\n"
     ]
    }
   ],
   "source": [
    "dogs = ['border collie', 'australian cattle dog', 'labrador retriever']\n",
    "dogs.remove('border collie')\n",
    "print(dogs)\n",
    "\n",
    "dogs1 = ['border collie', 'australian cattle dog', 'labrador retriever']\n",
    "del dogs1[1]\n",
    "print(dogs1)\n",
    "##your code"
   ]
  },
  {
   "cell_type": "markdown",
   "metadata": {},
   "source": [
    "10. Вывести срез списка с 3 по 5 элемент включительно и все слова перевести в верхний регистр (★☆☆)"
   ]
  },
  {
   "cell_type": "code",
   "execution_count": 44,
   "metadata": {},
   "outputs": [
    {
     "name": "stdout",
     "output_type": "stream",
     "text": [
      "['AUSTRALIAN', 'CATTLE', 'DOG']\n"
     ]
    }
   ],
   "source": [
    "dogs = ['border', 'collie', 'australian', 'cattle', 'dog', 'labrador', 'retriever']\n",
    "print([i.upper() for i in dogs[2:5]])\n",
    "##your code"
   ]
  },
  {
   "cell_type": "markdown",
   "metadata": {},
   "source": [
    "11. Словарь словарей. Вывести из словаря для каждого питомца его имя, породу, имя владельца, и наличие прививки. Строку вывода формировать через .format() (★☆☆)"
   ]
  },
  {
   "cell_type": "code",
   "execution_count": 47,
   "metadata": {},
   "outputs": [
    {
     "name": "stdout",
     "output_type": "stream",
     "text": [
      "name pets is willie, it is dog, owner is eric, vaccinated is True\n",
      "name pets is walter, it is cockroach, owner is eric, vaccinated is False\n",
      "name pets is peso, it is dog, owner is chloe, vaccinated is True\n"
     ]
    }
   ],
   "source": [
    "pets = {'willie': {'kind': 'dog', 'owner': 'eric', 'vaccinated': True},\n",
    "        'walter': {'kind': 'cockroach', 'owner': 'eric', 'vaccinated': False},\n",
    "        'peso': {'kind': 'dog', 'owner': 'chloe', 'vaccinated': True},\n",
    "        }\n",
    "for i in pets.keys():\n",
    "    print(\"name pets is {0}, it is {1}, owner is {2}, vaccinated is {3}\".format(i, pets[i]['kind'], pets[i]['owner'], pets[i]['vaccinated']))\n",
    "##your code"
   ]
  },
  {
   "cell_type": "markdown",
   "metadata": {},
   "source": [
    "12. Проверить является ли множество подмножеством другого множества  (★☆☆)"
   ]
  },
  {
   "cell_type": "code",
   "execution_count": 76,
   "metadata": {},
   "outputs": [],
   "source": [
    "a1=set([2, 5, 6])\n",
    "b1=set([2, 4, 8, 3, 5, 6, 0])\n",
    "m = a.issubset(b)\n",
    "\n",
    "##your code"
   ]
  },
  {
   "cell_type": "markdown",
   "metadata": {},
   "source": [
    "13. Объединить несколько множеств (★☆☆)"
   ]
  },
  {
   "cell_type": "code",
   "execution_count": 77,
   "metadata": {},
   "outputs": [
    {
     "data": {
      "text/plain": [
       "{1, 2, 3, 4, 5, 6, 8, 10, 35}"
      ]
     },
     "execution_count": 77,
     "metadata": {},
     "output_type": "execute_result"
    }
   ],
   "source": [
    "a=set([10, 35, 6, 5])\n",
    "b=set([2, 4, 8, 3, 5, 6, 35])\n",
    "c=set([1, 4, 5, 35])\n",
    "a = a.union(b)\n",
    "a = a.union(c)\n",
    "a\n",
    "##your code"
   ]
  },
  {
   "cell_type": "markdown",
   "metadata": {},
   "source": [
    "14. Посчитать пересечение множества b с остальными из предыдущего задания  (★★☆)\n",
    "\n",
    "(hint: set.intersection(other, ...) (или set & other &) )"
   ]
  },
  {
   "cell_type": "code",
   "execution_count": 78,
   "metadata": {},
   "outputs": [
    {
     "name": "stdout",
     "output_type": "stream",
     "text": [
      "{2, 5, 6}\n",
      "{2, 3, 4, 5, 6, 8}\n"
     ]
    }
   ],
   "source": [
    "print(a1.intersection(a))\n",
    "print(b1.intersection(a))"
   ]
  },
  {
   "cell_type": "markdown",
   "metadata": {},
   "source": [
    "15. Вывести множество из элементов, встречающихся в одном множестве, но не встречающиеся в обоих. (★★☆)\n",
    "\n",
    "(hint: .symmetric_difference())"
   ]
  },
  {
   "cell_type": "code",
   "execution_count": 81,
   "metadata": {},
   "outputs": [
    {
     "data": {
      "text/plain": [
       "{1, 2, 6, 7}"
      ]
     },
     "execution_count": 81,
     "metadata": {},
     "output_type": "execute_result"
    }
   ],
   "source": [
    "a=set([1, 2, 3, 4, 5])\n",
    "b=set([3, 4, 5, 6, 7])\n",
    "a.symmetric_difference(b)\n",
    "##your code"
   ]
  },
  {
   "cell_type": "markdown",
   "metadata": {},
   "source": [
    "16. Предположим, есть файл с данными клиентов. В качестве простого примера воьзьмем txt-файл следующего содержания:\n",
    "\n",
    "    lastname,age,debt,occupation\n",
    "    \n",
    "    Adrianov,25,30000,artist\n",
    "    \n",
    "    Нужно считать файл data/credit_sample.txt.\n",
    "    Сделать словарь вида:\n",
    "        {lastname: (age,debt,occupation)}\n",
    "    \n",
    "    Посчитать сколько уникальных профессий получилось в словаре.\n",
    "    \n",
    "    Результат записать в json (★★★)"
   ]
  },
  {
   "cell_type": "code",
   "execution_count": 7,
   "metadata": {},
   "outputs": [
    {
     "name": "stdout",
     "output_type": "stream",
     "text": [
      "lastname,age,debt, occupation\n",
      "Adrianov,25,30000,artist\n",
      "Belkin,42,4000,programmer\n",
      "Koltunov,32,100,sportsman\n",
      "Loptev,25,30000, artist\n",
      "Bobrov,42,4000,programmer\n",
      "Karelin,32,100, sportsman\n"
     ]
    }
   ],
   "source": [
    "with open(\"junior-program-master/data/credit_sample.txt\", 'r') as f:\n",
    "    print(f.read())\n",
    "    "
   ]
  },
  {
   "cell_type": "code",
   "execution_count": 1,
   "metadata": {},
   "outputs": [
    {
     "name": "stdout",
     "output_type": "stream",
     "text": [
      "{'lastname': ['age', 'debt', ' occupation'], 'Adrianov': ['25', '30000', 'artist'], 'Belkin': ['42', '4000', 'programmer'], 'Koltunov': ['32', '100', 'sportsman'], 'Loptev': ['25', '30000', ' artist'], 'Bobrov': ['42', '4000', 'programmer'], 'Karelin': ['32', '100', ' sportsman']}\n",
      "{'sportsman', 'programmer', 'occupation', 'artist'}\n"
     ]
    }
   ],
   "source": [
    "#TODO: зачем set с именем b? можно обойтись без него\n",
    "# TODO: файл f не закрыт после чтения\n",
    "import json\n",
    "f = open(\"junior-program-master/data/credit_sample.txt\")\n",
    "a = set(['occupation'])\n",
    "dic = {}\n",
    "for line in f:\n",
    "    line = line.strip()\n",
    "    mas = line.split(',')\n",
    "    dic[mas[0]] = mas[1:4]\n",
    "    a.add(mas[3].strip())\n",
    "#     if (a.issubset(set([mas[3].strip()])) == False):\n",
    "#         a = a.union(set([mas[3].strip()]))\n",
    "with open(\"data_file.json\", \"w\") as write_file:\n",
    "    json.dump(dic, write_file)\n",
    "print(dic)\n",
    "print(a)\n",
    "f.close()"
   ]
  },
  {
   "cell_type": "markdown",
   "metadata": {},
   "source": [
    "### os, sys, datetime"
   ]
  },
  {
   "cell_type": "markdown",
   "metadata": {},
   "source": [
    "17. Получить список файлов в папке gifs/ и оставить только файлы с расширением .gif (★★☆)"
   ]
  },
  {
   "cell_type": "code",
   "execution_count": 3,
   "metadata": {},
   "outputs": [],
   "source": [
    "import glob"
   ]
  },
  {
   "cell_type": "code",
   "execution_count": 8,
   "metadata": {},
   "outputs": [
    {
     "data": {
      "text/plain": [
       "['bender.gif',\n",
       " 'cheers.gif',\n",
       " 'inprogress.gif',\n",
       " 'journey.gif',\n",
       " 'pandas.gif',\n",
       " 'remember.gif',\n",
       " 'sleep.gif',\n",
       " 'start.gif']"
      ]
     },
     "execution_count": 8,
     "metadata": {},
     "output_type": "execute_result"
    }
   ],
   "source": [
    "[x.replace('gifs\\\\', '') for x in glob.glob('gifs/*.gif')]"
   ]
  },
  {
   "cell_type": "code",
   "execution_count": 2,
   "metadata": {},
   "outputs": [
    {
     "name": "stdout",
     "output_type": "stream",
     "text": [
      "['bender.gif', 'cheers.gif', 'end.jpg', 'inprogress.gif', 'journey.gif', 'linear.jpeg', 'ml_map.png', 'one-hot-encoding.png', 'one_hot.png', 'pandas.gif', 'pandas.jfif', 'remember.gif', 'sleep.gif', 'start.gif']\n",
      ".jpg\n",
      ".jpeg\n",
      ".png\n",
      ".png\n",
      ".png\n",
      ".jfif\n",
      "['bender.gif', 'cheers.gif', 'inprogress.gif', 'journey.gif', 'pandas.gif', 'remember.gif', 'sleep.gif', 'start.gif']\n"
     ]
    }
   ],
   "source": [
    "import os\n",
    "gif = os.listdir(\"gifs\")\n",
    "mas = []\n",
    "print(gif)\n",
    "for i in gif:\n",
    "    file, file_extension = os.path.splitext(i)\n",
    "    if (file_extension != '.gif'):\n",
    "        mas.append(i)\n",
    "        print(file_extension)\n",
    "#         gif.remove(i)\n",
    "for i in mas:\n",
    "    gif.remove(i)\n",
    "print(gif)"
   ]
  },
  {
   "cell_type": "markdown",
   "metadata": {},
   "source": [
    "18. Создать папку с названием temp и удалить её (★☆☆)"
   ]
  },
  {
   "cell_type": "code",
   "execution_count": 4,
   "metadata": {},
   "outputs": [],
   "source": [
    "import os\n",
    "os.mkdir(\"temp\")\n",
    "os.rmdir(\"temp\")\n"
   ]
  },
  {
   "cell_type": "markdown",
   "metadata": {},
   "source": [
    "19. Вывести переменные среды (★☆☆)\n",
    "\n",
    "(hint: environ)"
   ]
  },
  {
   "cell_type": "code",
   "execution_count": 5,
   "metadata": {},
   "outputs": [
    {
     "data": {
      "text/plain": [
       "environ{'ALLUSERSPROFILE': 'C:\\\\ProgramData',\n",
       "        'APPDATA': 'C:\\\\Users\\\\18322440\\\\AppData\\\\Roaming',\n",
       "        'COMMONPROGRAMFILES': 'C:\\\\Program Files\\\\Common Files',\n",
       "        'COMMONPROGRAMFILES(X86)': 'C:\\\\Program Files (x86)\\\\Common Files',\n",
       "        'COMMONPROGRAMW6432': 'C:\\\\Program Files\\\\Common Files',\n",
       "        'COMPUTERNAME': 'CAB-WSN-0012389',\n",
       "        'COMSPEC': 'C:\\\\WINDOWS\\\\system32\\\\cmd.exe',\n",
       "        'DRIVERDATA': 'C:\\\\Windows\\\\System32\\\\Drivers\\\\DriverData',\n",
       "        'FPS_BROWSER_APP_PROFILE_STRING': 'Internet Explorer',\n",
       "        'FPS_BROWSER_USER_PROFILE_STRING': 'Default',\n",
       "        'HOMEDRIVE': 'C:',\n",
       "        'HOMEPATH': '\\\\Users\\\\18322440',\n",
       "        'LOCALAPPDATA': 'C:\\\\Users\\\\18322440\\\\AppData\\\\Local',\n",
       "        'LOGONSERVER': '\\\\\\\\LAKE5',\n",
       "        'NUMBER_OF_PROCESSORS': '8',\n",
       "        'OS': 'Windows_NT',\n",
       "        'PATH': 'c:\\\\anaconda3\\\\Library\\\\bin;C:\\\\Users\\\\18322440\\\\AppData\\\\Roaming\\\\Python\\\\Python36\\\\site-packages\\\\pywin32_system32;c:\\\\anaconda3\\\\Library\\\\bin;C:\\\\Users\\\\18322440\\\\AppData\\\\Roaming\\\\Python\\\\Python36\\\\site-packages\\\\pywin32_system32;c:\\\\anaconda3\\\\Library\\\\bin;C:\\\\Users\\\\18322440\\\\AppData\\\\Roaming\\\\Python\\\\Python36\\\\site-packages\\\\pywin32_system32;C:\\\\Anaconda3;C:\\\\Anaconda3\\\\Library\\\\mingw-w64\\\\bin;C:\\\\Anaconda3\\\\Library\\\\usr\\\\bin;C:\\\\Anaconda3\\\\Library\\\\bin;C:\\\\Anaconda3\\\\Scripts;C:\\\\ProgramData\\\\Oracle\\\\Java\\\\javapath;C:\\\\WINDOWS\\\\system32;C:\\\\WINDOWS;C:\\\\WINDOWS\\\\System32\\\\Wbem;C:\\\\WINDOWS\\\\System32\\\\WindowsPowerShell\\\\v1.0\\\\;C:\\\\WINDOWS\\\\System32\\\\OpenSSH\\\\;C:\\\\Program Files\\\\Git\\\\cmd;C:\\\\Users\\\\18322440\\\\AppData\\\\Local\\\\Microsoft\\\\WindowsApps;',\n",
       "        'PATHEXT': '.COM;.EXE;.BAT;.CMD;.VBS;.VBE;.JS;.JSE;.WSF;.WSH;.MSC',\n",
       "        'PROCESSOR_ARCHITECTURE': 'AMD64',\n",
       "        'PROCESSOR_IDENTIFIER': 'AMD64 Family 23 Model 24 Stepping 1, AuthenticAMD',\n",
       "        'PROCESSOR_LEVEL': '23',\n",
       "        'PROCESSOR_REVISION': '1801',\n",
       "        'PROGRAMDATA': 'C:\\\\ProgramData',\n",
       "        'PROGRAMFILES': 'C:\\\\Program Files',\n",
       "        'PROGRAMFILES(X86)': 'C:\\\\Program Files (x86)',\n",
       "        'PROGRAMW6432': 'C:\\\\Program Files',\n",
       "        'PROMPT': '$P$G',\n",
       "        'PSMODULEPATH': 'C:\\\\Program Files\\\\WindowsPowerShell\\\\Modules;C:\\\\WINDOWS\\\\system32\\\\WindowsPowerShell\\\\v1.0\\\\Modules',\n",
       "        'PUBLIC': 'C:\\\\Users\\\\Public',\n",
       "        'SESSIONNAME': 'Console',\n",
       "        'SYSTEMDRIVE': 'C:',\n",
       "        'SYSTEMROOT': 'C:\\\\WINDOWS',\n",
       "        'TEMP': 'C:\\\\Users\\\\18322440\\\\AppData\\\\Local\\\\Temp',\n",
       "        'TMP': 'C:\\\\Users\\\\18322440\\\\AppData\\\\Local\\\\Temp',\n",
       "        'UATDATA': 'C:\\\\WINDOWS\\\\CCM\\\\UATData\\\\D9F8C395-CAB8-491d-B8AC-179A1FE1BE77',\n",
       "        'USERDNSDOMAIN': 'SIGMA.SBRF.RU',\n",
       "        'USERDOMAIN': 'SIGMA',\n",
       "        'USERDOMAIN_ROAMINGPROFILE': 'SIGMA',\n",
       "        'USERNAME': '18322440',\n",
       "        'USERPROFILE': 'C:\\\\Users\\\\18322440',\n",
       "        'WINDIR': 'C:\\\\WINDOWS',\n",
       "        'KERNEL_LAUNCH_TIMEOUT': '40',\n",
       "        'JPY_INTERRUPT_EVENT': '3248',\n",
       "        'IPY_INTERRUPT_EVENT': '3248',\n",
       "        'JPY_PARENT_PID': '3240',\n",
       "        'TERM': 'xterm-color',\n",
       "        'CLICOLOR': '1',\n",
       "        'PAGER': 'cat',\n",
       "        'GIT_PAGER': 'cat',\n",
       "        'MPLBACKEND': 'module://ipykernel.pylab.backend_inline'}"
      ]
     },
     "execution_count": 5,
     "metadata": {},
     "output_type": "execute_result"
    }
   ],
   "source": [
    "os.environ"
   ]
  },
  {
   "cell_type": "markdown",
   "metadata": {},
   "source": [
    "20. Как игнорировать warrnings?"
   ]
  },
  {
   "cell_type": "markdown",
   "metadata": {},
   "source": [
    "* Про datetime и timedelta \n",
    "\n",
    "https://www.guru99.com/date-time-and-datetime-classes-in-python.html"
   ]
  },
  {
   "cell_type": "markdown",
   "metadata": {},
   "source": [
    "21. Вывести сегодняшнюю, вчерашнюю и завтрашнюю дату (☆☆☆)"
   ]
  },
  {
   "cell_type": "code",
   "execution_count": 10,
   "metadata": {},
   "outputs": [
    {
     "name": "stdout",
     "output_type": "stream",
     "text": [
      "2020-02-04 15:10:19.329560\n",
      "2020-02-03 15:10:19.329560\n",
      "2020-02-05 15:10:19.333560\n"
     ]
    }
   ],
   "source": [
    "from datetime import timedelta\n",
    "from datetime import datetime\n",
    "from datetime import date\n",
    "from datetime import time\n",
    "\n",
    "print(datetime.today())\n",
    "print(datetime.today() - timedelta(1))\n",
    "print(datetime.today() + timedelta(1))"
   ]
  },
  {
   "cell_type": "markdown",
   "metadata": {},
   "source": [
    "22. Вывести день недели сегодняшней даты (★☆☆)"
   ]
  },
  {
   "cell_type": "code",
   "execution_count": 11,
   "metadata": {},
   "outputs": [
    {
     "data": {
      "text/plain": [
       "1"
      ]
     },
     "execution_count": 11,
     "metadata": {},
     "output_type": "execute_result"
    }
   ],
   "source": [
    "today = date.today()\n",
    "today.weekday()"
   ]
  },
  {
   "cell_type": "markdown",
   "metadata": {},
   "source": [
    "23. Получить список дат за предыдущую неделю (★★☆)"
   ]
  },
  {
   "cell_type": "code",
   "execution_count": 12,
   "metadata": {},
   "outputs": [
    {
     "name": "stdout",
     "output_type": "stream",
     "text": [
      "<built-in method today of type object at 0x0000000050549210>\n",
      "2020-02-03 15:10:23.294600\n",
      "2020-02-02 15:10:23.294600\n",
      "2020-02-01 15:10:23.294600\n",
      "2020-01-31 15:10:23.294600\n",
      "2020-01-30 15:10:23.294600\n",
      "2020-01-29 15:10:23.294600\n",
      "2020-01-28 15:10:23.294600\n"
     ]
    }
   ],
   "source": [
    "from datetime import timedelta\n",
    "print(datetime.today)\n",
    "for i in range(1, 8):\n",
    "    print(datetime.today() - timedelta(i))"
   ]
  },
  {
   "cell_type": "markdown",
   "metadata": {},
   "source": [
    "24. Вывести дату с часами и минутами, отформатировать в формате: 01.12.2019 00:12:54 (★★☆)\n",
    "            \n",
    "(hint: now().strftime())"
   ]
  },
  {
   "cell_type": "code",
   "execution_count": 3,
   "metadata": {},
   "outputs": [
    {
     "data": {
      "text/plain": [
       "'2020.02.05 12:42:15'"
      ]
     },
     "execution_count": 3,
     "metadata": {},
     "output_type": "execute_result"
    }
   ],
   "source": [
    "from datetime import datetime\n",
    "datetime.now().strftime(\"%Y.%m.%d %H:%M:%S\")"
   ]
  },
  {
   "cell_type": "markdown",
   "metadata": {},
   "source": [
    "25. Исходя из текущей даты вычислить дату предыдущего понедельника (★★★)"
   ]
  },
  {
   "cell_type": "code",
   "execution_count": 6,
   "metadata": {},
   "outputs": [
    {
     "name": "stdout",
     "output_type": "stream",
     "text": [
      "2020-02-05 12:43:04.092945\n",
      "2\n",
      "2020-01-27 12:43:04.092945\n"
     ]
    }
   ],
   "source": [
    "# TODO: предыдущий понедельник было 27 февраля, не 28\n",
    "from datetime import timedelta\n",
    "print(datetime.now())\n",
    "week = datetime.today().weekday()\n",
    "print(week)\n",
    "print(datetime.now() - timedelta(7 + week))"
   ]
  },
  {
   "cell_type": "markdown",
   "metadata": {},
   "source": [
    "# Numpy"
   ]
  },
  {
   "cell_type": "markdown",
   "metadata": {},
   "source": [
    "### numpy в картинках (реально лучший):\n",
    "\n",
    "https://jalammar.github.io/visual-numpy/"
   ]
  },
  {
   "cell_type": "code",
   "execution_count": 7,
   "metadata": {},
   "outputs": [],
   "source": [
    "import numpy as np"
   ]
  },
  {
   "cell_type": "markdown",
   "metadata": {},
   "source": [
    "1. Задать нулевой вектор размером 10 (★☆☆)\n",
    "\n",
    "(hint: np.zeros)"
   ]
  },
  {
   "cell_type": "code",
   "execution_count": 8,
   "metadata": {},
   "outputs": [
    {
     "data": {
      "text/plain": [
       "array([ 0.,  0.,  0.,  0.,  0.,  0.,  0.,  0.,  0.,  0.])"
      ]
     },
     "execution_count": 8,
     "metadata": {},
     "output_type": "execute_result"
    }
   ],
   "source": [
    "np.zeros(10)"
   ]
  },
  {
   "cell_type": "markdown",
   "metadata": {},
   "source": [
    "2. Как найти размер занимаемой памяти любым массивом (★☆☆)\n",
    "\n",
    "(hint: size, itemsize)"
   ]
  },
  {
   "cell_type": "code",
   "execution_count": 18,
   "metadata": {},
   "outputs": [
    {
     "name": "stdout",
     "output_type": "stream",
     "text": [
      "16\n"
     ]
    }
   ],
   "source": [
    "mas = np.array([1,2,3,4])\n",
    "print(np.size(mas) * mas.itemsize)\n",
    "# TODO: size возвращает количество элементов, а не занимаемую память"
   ]
  },
  {
   "cell_type": "markdown",
   "metadata": {},
   "source": [
    "3. Создать вектор из 10 нулей, кроме пятого элемента, который равен 1 (★☆☆)"
   ]
  },
  {
   "cell_type": "code",
   "execution_count": 4,
   "metadata": {},
   "outputs": [
    {
     "data": {
      "text/plain": [
       "array([ 0.,  0.,  0.,  0.,  1.,  0.,  0.,  0.,  0.,  0.,  0.])"
      ]
     },
     "execution_count": 4,
     "metadata": {},
     "output_type": "execute_result"
    }
   ],
   "source": [
    "mas = np.zeros(11)\n",
    "mas[4] = 1\n",
    "mas"
   ]
  },
  {
   "cell_type": "markdown",
   "metadata": {},
   "source": [
    "4. Создать вектор от 10 до 50 включительно (★☆☆)\n",
    "\n",
    "(hint:np.arange)"
   ]
  },
  {
   "cell_type": "code",
   "execution_count": 5,
   "metadata": {},
   "outputs": [
    {
     "data": {
      "text/plain": [
       "array([10, 11, 12, 13, 14, 15, 16, 17, 18, 19, 20, 21, 22, 23, 24, 25, 26,\n",
       "       27, 28, 29, 30, 31, 32, 33, 34, 35, 36, 37, 38, 39, 40, 41, 42, 43,\n",
       "       44, 45, 46, 47, 48, 49, 50])"
      ]
     },
     "execution_count": 5,
     "metadata": {},
     "output_type": "execute_result"
    }
   ],
   "source": [
    "np.arange(10, 51)"
   ]
  },
  {
   "cell_type": "markdown",
   "metadata": {},
   "source": [
    "5. Перевернуть вектор (первый элемент будет последним) (★☆☆)"
   ]
  },
  {
   "cell_type": "code",
   "execution_count": 6,
   "metadata": {},
   "outputs": [
    {
     "data": {
      "text/plain": [
       "array([50, 49, 48, 47, 46, 45, 44, 43, 42, 41, 40, 39, 38, 37, 36, 35, 34,\n",
       "       33, 32, 31, 30, 29, 28, 27, 26, 25, 24, 23, 22, 21, 20, 19, 18, 17,\n",
       "       16, 15, 14, 13, 12, 11, 10])"
      ]
     },
     "execution_count": 6,
     "metadata": {},
     "output_type": "execute_result"
    }
   ],
   "source": [
    "vec = np.arange(10, 51)\n",
    "vec = vec[::-1]\n",
    "vec"
   ]
  },
  {
   "cell_type": "markdown",
   "metadata": {},
   "source": [
    "6. Создать матрицу 3х3 с элементами от 0 до 8 (★☆☆)\n",
    "\n",
    "(hint: reshape)"
   ]
  },
  {
   "cell_type": "code",
   "execution_count": 7,
   "metadata": {},
   "outputs": [
    {
     "data": {
      "text/plain": [
       "array([[0, 1, 2],\n",
       "       [3, 4, 5],\n",
       "       [6, 7, 8]])"
      ]
     },
     "execution_count": 7,
     "metadata": {},
     "output_type": "execute_result"
    }
   ],
   "source": [
    "np.arange(9).reshape(3,3)"
   ]
  },
  {
   "cell_type": "markdown",
   "metadata": {},
   "source": [
    "7. Найти индексы не нулевых эемелентов в numpy array [1,2,0,0,4,0] (★☆☆)\n",
    "\n",
    "(hint: np.nonzero)"
   ]
  },
  {
   "cell_type": "code",
   "execution_count": 8,
   "metadata": {},
   "outputs": [
    {
     "data": {
      "text/plain": [
       "(array([0, 1, 4], dtype=int64),)"
      ]
     },
     "execution_count": 8,
     "metadata": {},
     "output_type": "execute_result"
    }
   ],
   "source": [
    "np.array([1,2,0,0,4,0]).nonzero()"
   ]
  },
  {
   "cell_type": "markdown",
   "metadata": {},
   "source": [
    "8. Создать матрицу 10x10 array с рандомными числами и найти минимум, максимум и среднее (★☆☆)"
   ]
  },
  {
   "cell_type": "code",
   "execution_count": 9,
   "metadata": {},
   "outputs": [
    {
     "name": "stdout",
     "output_type": "stream",
     "text": [
      "0.989780279365\n",
      "0.0043607218833\n",
      "0.540778580175\n"
     ]
    }
   ],
   "source": [
    "mas = np.random.random((10, 10))\n",
    "print(mas.max())\n",
    "print(mas.min())\n",
    "print(mas.mean())"
   ]
  },
  {
   "cell_type": "markdown",
   "metadata": {},
   "source": [
    "9. Создать матрицу 8x8 и заполнить 0 и 1 в стиле шахматной доски (★☆☆)\n",
    "\n",
    "(hint: array[::n])"
   ]
  },
  {
   "cell_type": "code",
   "execution_count": 18,
   "metadata": {},
   "outputs": [
    {
     "data": {
      "text/plain": [
       "array([[ 0.,  1.,  0.,  1.,  0.,  1.,  0.,  1.],\n",
       "       [ 1.,  0.,  1.,  0.,  1.,  0.,  1.,  0.],\n",
       "       [ 0.,  1.,  0.,  1.,  0.,  1.,  0.,  1.],\n",
       "       [ 1.,  0.,  1.,  0.,  1.,  0.,  1.,  0.],\n",
       "       [ 0.,  1.,  0.,  1.,  0.,  1.,  0.,  1.],\n",
       "       [ 1.,  0.,  1.,  0.,  1.,  0.,  1.,  0.],\n",
       "       [ 0.,  1.,  0.,  1.,  0.,  1.,  0.,  1.],\n",
       "       [ 1.,  0.,  1.,  0.,  1.,  0.,  1.,  0.]])"
      ]
     },
     "execution_count": 18,
     "metadata": {},
     "output_type": "execute_result"
    }
   ],
   "source": [
    "mas = np.zeros((8, 8))\n",
    "mas[1::2, ::2] = 1\n",
    "mas[::2, 1::2] = 1\n",
    "mas"
   ]
  },
  {
   "cell_type": "markdown",
   "metadata": {},
   "source": [
    "10. Нормализовать рандомную матрицу 5x5 (★☆☆)\n",
    "\n",
    "(hint: (x - mean) / std)"
   ]
  },
  {
   "cell_type": "code",
   "execution_count": 21,
   "metadata": {},
   "outputs": [
    {
     "name": "stdout",
     "output_type": "stream",
     "text": [
      "[[ 0.00768285  0.24386526  0.60174651  0.58538649  0.74434106]\n",
      " [ 0.00364881  0.98815831  0.93584993  0.27039344  0.27277528]\n",
      " [ 0.84067357  0.59876168  0.56287686  0.17088282  0.72916003]\n",
      " [ 0.24632354  0.23832452  0.74501999  0.62423661  0.45480133]\n",
      " [ 0.58778779  0.74646613  0.03389029  0.72054568  0.28041499]]\n",
      "[[-1.68415464 -0.85835824  0.39295017  0.33574843  0.89152271]\n",
      " [-1.6982594   1.7440138   1.56112095 -0.7656042  -0.75727624]\n",
      " [ 1.22834304  0.38251391  0.25704498 -1.11353658  0.83844321]\n",
      " [-0.84976305 -0.87773111  0.89389653  0.47158532 -0.12083405]\n",
      " [ 0.34414442  0.89895286 -1.59252202  0.80832372 -0.73056452]]\n"
     ]
    }
   ],
   "source": [
    "# TODO: можно решить без циклов\n",
    "mas = np.random.random((5,5))\n",
    "print(mas)\n",
    "mn = mas.mean()\n",
    "st = mas.std()\n",
    "print((mas - mn)/st)"
   ]
  },
  {
   "cell_type": "markdown",
   "metadata": {},
   "source": [
    "11. Найти общие элементы между двумя массивами\n",
    "\n",
    "(hint: np.intersect1d)"
   ]
  },
  {
   "cell_type": "code",
   "execution_count": 29,
   "metadata": {},
   "outputs": [
    {
     "data": {
      "text/plain": [
       "array([0, 1, 5])"
      ]
     },
     "execution_count": 29,
     "metadata": {},
     "output_type": "execute_result"
    }
   ],
   "source": [
    "mas1 = np.array([1,2,3,4,5,6,7,8,9,0])\n",
    "mas2 = np.array([1,-2,-3,-4, 5,-6,-7,-8,-9,0])\n",
    "np.intersect1d(mas1, mas2)"
   ]
  },
  {
   "cell_type": "markdown",
   "metadata": {},
   "source": [
    "12. Извлечь целую часть рандомного массива чисел различными способами (максимум 5) (★★☆)"
   ]
  },
  {
   "cell_type": "code",
   "execution_count": 34,
   "metadata": {},
   "outputs": [
    {
     "name": "stdout",
     "output_type": "stream",
     "text": [
      "[[ 4.80227182  8.47788512  1.72420548  2.31527152  9.8441762 ]\n",
      " [ 9.87011972  4.90047176  6.27705962  5.50426473  6.06002119]\n",
      " [ 0.43166529  5.36846183  8.62249293  1.14984312  7.92341945]\n",
      " [ 7.45237554  3.63528553  6.10637375  1.66813068  8.47447708]\n",
      " [ 0.62211792  4.39697438  5.15112452  9.25301549  3.71862831]]\n",
      "[[ 4.  8.  1.  2.  9.]\n",
      " [ 9.  4.  6.  5.  6.]\n",
      " [ 0.  5.  8.  1.  7.]\n",
      " [ 7.  3.  6.  1.  8.]\n",
      " [ 0.  4.  5.  9.  3.]]\n",
      "[[4 8 1 2 9]\n",
      " [9 4 6 5 6]\n",
      " [0 5 8 1 7]\n",
      " [7 3 6 1 8]\n",
      " [0 4 5 9 3]]\n"
     ]
    }
   ],
   "source": [
    "# TODO: можно решить без циклов\n",
    "mas = np.random.random((5,5)) * 10\n",
    "print (mas)\n",
    "print(mas - (mas % 1))\n",
    "print(np.array(mas, dtype=int))"
   ]
  },
  {
   "cell_type": "markdown",
   "metadata": {},
   "source": [
    "13. Создать рандомный вектор размера 10 и отсортировать его (★★☆)"
   ]
  },
  {
   "cell_type": "code",
   "execution_count": 48,
   "metadata": {},
   "outputs": [
    {
     "data": {
      "text/plain": [
       "array([ 0.08382731,  0.2075753 ,  0.22042075,  0.2407173 ,  0.37263136,\n",
       "        0.50949032,  0.74602068,  0.76343666,  0.81916268,  0.84277485])"
      ]
     },
     "execution_count": 48,
     "metadata": {},
     "output_type": "execute_result"
    }
   ],
   "source": [
    "mas = np.random.random(10)\n",
    "mas.sort()\n",
    "mas"
   ]
  },
  {
   "cell_type": "markdown",
   "metadata": {},
   "source": [
    "14. Проверить одинаковы ли два рандомных массива А и B (★★☆)\n",
    "\n",
    "(hint: np.allclose, np.array_equal)"
   ]
  },
  {
   "cell_type": "code",
   "execution_count": 50,
   "metadata": {},
   "outputs": [
    {
     "name": "stdout",
     "output_type": "stream",
     "text": [
      "False\n",
      "False\n"
     ]
    }
   ],
   "source": [
    "mas1 = np.random.random(10)\n",
    "mas2 = np.random.random(10)\n",
    "print(np.allclose(mas1, mas2))\n",
    "print(np.array_equal(mas1, mas2))"
   ]
  },
  {
   "cell_type": "markdown",
   "metadata": {},
   "source": [
    "15. Создать рандомный ветор размером 10 и максимальный элемент заменить на -1 (★★☆)\n",
    "\n",
    "(hint: argmax)"
   ]
  },
  {
   "cell_type": "code",
   "execution_count": 55,
   "metadata": {},
   "outputs": [
    {
     "name": "stdout",
     "output_type": "stream",
     "text": [
      "[ 0.42120627  0.51245526  0.30510026  0.32249814  0.74946432  0.68189416\n",
      "  0.67569159 -1.          0.53751224  0.43471553]\n"
     ]
    }
   ],
   "source": [
    "mas = np.random.random(10)\n",
    "mas[np.argmax(mas)] = -1\n",
    "print(mas)"
   ]
  },
  {
   "cell_type": "markdown",
   "metadata": {},
   "source": [
    "16. Найдите самый близкий элемент к данному рандомному числу в векторе? (★★☆)\n",
    "\n",
    "(hint: argmin)"
   ]
  },
  {
   "cell_type": "code",
   "execution_count": 81,
   "metadata": {},
   "outputs": [
    {
     "name": "stdout",
     "output_type": "stream",
     "text": [
      "[ 0  1  2  3  4  5  6  7  8  9 10 11 12 13 14 15 16 17 18 19 20 21 22 23 24\n",
      " 25 26 27 28 29 30 31 32 33 34 35 36 37 38 39 40 41 42 43 44 45 46 47 48 49\n",
      " 50 51 52 53 54 55 56 57 58 59 60 61 62 63 64 65 66 67 68 69 70 71 72 73 74\n",
      " 75 76 77 78 79 80 81 82 83 84 85 86 87 88 89 90 91 92 93 94 95 96 97 98 99]\n",
      "54.58222904634449\n",
      "[ 54.58222905  53.58222905  52.58222905  51.58222905  50.58222905\n",
      "  49.58222905  48.58222905  47.58222905  46.58222905  45.58222905\n",
      "  44.58222905  43.58222905  42.58222905  41.58222905  40.58222905\n",
      "  39.58222905  38.58222905  37.58222905  36.58222905  35.58222905\n",
      "  34.58222905  33.58222905  32.58222905  31.58222905  30.58222905\n",
      "  29.58222905  28.58222905  27.58222905  26.58222905  25.58222905\n",
      "  24.58222905  23.58222905  22.58222905  21.58222905  20.58222905\n",
      "  19.58222905  18.58222905  17.58222905  16.58222905  15.58222905\n",
      "  14.58222905  13.58222905  12.58222905  11.58222905  10.58222905\n",
      "   9.58222905   8.58222905   7.58222905   6.58222905   5.58222905\n",
      "   4.58222905   3.58222905   2.58222905   1.58222905   0.58222905\n",
      "   0.41777095   1.41777095   2.41777095   3.41777095   4.41777095\n",
      "   5.41777095   6.41777095   7.41777095   8.41777095   9.41777095\n",
      "  10.41777095  11.41777095  12.41777095  13.41777095  14.41777095\n",
      "  15.41777095  16.41777095  17.41777095  18.41777095  19.41777095\n",
      "  20.41777095  21.41777095  22.41777095  23.41777095  24.41777095\n",
      "  25.41777095  26.41777095  27.41777095  28.41777095  29.41777095\n",
      "  30.41777095  31.41777095  32.41777095  33.41777095  34.41777095\n",
      "  35.41777095  36.41777095  37.41777095  38.41777095  39.41777095\n",
      "  40.41777095  41.41777095  42.41777095  43.41777095  44.41777095]\n",
      "55\n"
     ]
    }
   ],
   "source": [
    "Z = np.arange(100)\n",
    "v = np.random.uniform(0,100)\n",
    "print(Z)\n",
    "print(v)\n",
    "print(np.abs(Z - v))\n",
    "index = np.argmin(np.abs(Z - v))\n",
    "print(Z[index])\n"
   ]
  },
  {
   "cell_type": "markdown",
   "metadata": {},
   "source": [
    "17. Посчитать среднее для каждой строки матрицы (★★☆)"
   ]
  },
  {
   "cell_type": "code",
   "execution_count": 42,
   "metadata": {},
   "outputs": [
    {
     "name": "stdout",
     "output_type": "stream",
     "text": [
      "[[  9.19332698e-02   4.15314889e-01   8.57434797e-01   1.01519571e-01\n",
      "    9.63000487e-01   6.34115768e-01   6.36724012e-01   1.91428483e-02\n",
      "    9.85115762e-01   9.46310009e-01]\n",
      " [  1.68482038e-01   6.60607592e-02   2.70749025e-01   5.46139249e-01\n",
      "    5.53272506e-02   3.66823848e-01   6.26155424e-01   4.76069951e-01\n",
      "    9.03498977e-01   8.49313963e-01]\n",
      " [  7.76671502e-01   6.77416155e-01   6.60386374e-01   4.90671642e-02\n",
      "    8.86241586e-01   9.03095022e-02   5.95063020e-02   9.46953086e-01\n",
      "    2.14532970e-01   5.47717858e-01]\n",
      " [  5.26839019e-01   6.40952823e-01   5.20887951e-01   8.18458736e-01\n",
      "    9.38441441e-01   4.75681133e-01   6.45090839e-01   4.50385955e-01\n",
      "    8.22420322e-01   3.39705236e-01]\n",
      " [  3.36523247e-01   1.37037357e-02   5.07777260e-01   3.14061343e-01\n",
      "    1.50269657e-01   8.43142079e-01   1.49942505e-01   2.93452451e-01\n",
      "    4.30340699e-01   5.82121126e-01]\n",
      " [  8.09482013e-01   9.70004150e-01   4.60482977e-01   2.77871354e-01\n",
      "    5.81537817e-01   8.19872970e-02   9.30613163e-01   8.10713940e-01\n",
      "    6.66364490e-01   1.71981963e-01]\n",
      " [  1.66373155e-01   1.21070311e-01   1.80040946e-01   8.13399587e-01\n",
      "    7.04401765e-01   7.07962306e-01   8.21619529e-01   8.75431714e-01\n",
      "    3.03721508e-01   8.99956304e-01]\n",
      " [  7.58923022e-01   8.09712335e-01   6.65553761e-01   6.66211872e-01\n",
      "    3.13751648e-01   4.40993595e-01   5.84786374e-01   6.07748553e-01\n",
      "    4.54244774e-01   3.64655884e-01]\n",
      " [  2.28798407e-01   3.02531001e-01   5.71671577e-01   1.62882410e-02\n",
      "    4.60410374e-01   3.72532036e-02   2.25652474e-01   4.17148456e-04\n",
      "    7.92590652e-01   9.56119009e-01]\n",
      " [  2.78700920e-01   4.95274215e-01   8.99439303e-01   5.43984604e-01\n",
      "    6.81882922e-01   1.11157771e-01   2.25022214e-01   4.57984715e-01\n",
      "    8.95849760e-01   9.74833130e-01]]\n",
      "[ 0.56506114  0.43286205  0.49088025  0.61788635  0.36213341  0.57610392\n",
      "  0.55939771  0.56665818  0.35917321  0.55641296]\n"
     ]
    }
   ],
   "source": [
    "# TODO: можно решить без циклов\n",
    "Z = np.random.random((10,10))\n",
    "print(Z)\n",
    "print(Z.mean(axis=1))"
   ]
  },
  {
   "cell_type": "markdown",
   "metadata": {},
   "source": [
    "18. Посчитать среднее со скользящим окном над массивом (★★★)\n",
    "\n",
    "(hint: np.cumsum)"
   ]
  },
  {
   "cell_type": "code",
   "execution_count": 5,
   "metadata": {},
   "outputs": [
    {
     "data": {
      "text/plain": [
       "array([ 1.,  2.,  3.,  4.,  5.,  6.,  7.,  8.,  9., 10., 11., 12., 13.,\n",
       "       14., 15., 16., 17., 18.])"
      ]
     },
     "execution_count": 5,
     "metadata": {},
     "output_type": "execute_result"
    }
   ],
   "source": [
    "def moving_average(a, n=3) :\n",
    "    ret = np.cumsum(a, dtype=float)\n",
    "    ret[n:] = ret[n:] - ret[:-n]\n",
    "    return ret[n - 1:] / n\n",
    "mas = np.arange(20)\n",
    "moving_average(mas)"
   ]
  },
  {
   "cell_type": "code",
   "execution_count": 6,
   "metadata": {},
   "outputs": [
    {
     "data": {
      "text/plain": [
       "array([ 0,  1,  2,  3,  4,  5,  6,  7,  8,  9, 10, 11, 12, 13, 14, 15, 16,\n",
       "       17, 18, 19])"
      ]
     },
     "execution_count": 6,
     "metadata": {},
     "output_type": "execute_result"
    }
   ],
   "source": [
    "mas"
   ]
  },
  {
   "cell_type": "markdown",
   "metadata": {},
   "source": [
    "<img src=\"gifs/bender.gif\" width=\"400\">"
   ]
  },
  {
   "cell_type": "markdown",
   "metadata": {},
   "source": [
    "# Regular expressions\n",
    "\n",
    "* Cупер статья на все времена. Особенно понятно все про такие сложные штуки как lookaround. \n",
    "\n",
    "https://habr.com/ru/post/349860/\n",
    "\n",
    "\n",
    "* Задания на регулярки\n",
    "\n",
    "https://regexone.com/\n",
    "\n",
    "* На этом сайте удобно тестировать регулярку, которую мучаешь, можно написать несколько примеров и тестировать на них. Важно не забывать выбирать Python:\n",
    "\n",
    "https://regex101.com/"
   ]
  },
  {
   "cell_type": "markdown",
   "metadata": {},
   "source": [
    "1. Из строки в файле data/rejson.txt вытащить хэш. Пример:\n",
    "\n",
    "'master_guid': '<b>233880bb4c50d247f84edc9cac9e6e29</b>_2308194320'"
   ]
  },
  {
   "cell_type": "code",
   "execution_count": 53,
   "metadata": {},
   "outputs": [
    {
     "name": "stdout",
     "output_type": "stream",
     "text": [
      "\"{'233880bb4c50d247f84edc9cac9e6e29_2308194320': {'event_ids': [77], 'inn': '2308194320', 'master_guid': '233880bb4c50d247f84edc9cac9e6e29_2308194320', 'weight': 0}, '233880bb4c50d247f84edc9cac9e6e29_3015058150': {'event_ids': [77], 'inn': '3015058150', 'master_guid': '233880bb4c50d247f84edc9cac9e6e29_3015058150', 'weight': 1}, '233880bb4c50d247f84edc9cac9e6e29_6722014606': {'event_ids': [77], 'inn': '6722014606', 'master_guid': '233880bb4c50d247f84edc9cac9e6e29_6722014606', 'weight': 0}, '233880bb4c50d247f84edc9cac9e6e29_7104019979': {'event_ids': [77], 'inn': '7104019979', 'master_guid': '233880bb4c50d247f84edc9cac9e6e29_7104019979', 'weight': 0}, '233880bb4c50d247f84edc9cac9e6e29_7703425673': {'event_ids': [77], 'inn': '7703425673', 'master_guid': '233880bb4c50d247f84edc9cac9e6e29_7703425673', 'weight': 0}, '233880bb4c50d247f84edc9cac9e6e29_7708740277': {'event_ids': [77], 'inn': '7708740277', 'master_guid': 'ef2523f479fb766cacb89c58ec1e668f_7708740277', 'weight': 0}, '233880bb4c50d247f84edc9cac9e6e29_7728355650': {'event_ids': [77], 'inn': '7728355650', 'master_guid': 'b8c8c46467e81d5d43bd2a5cc5db85cd_7728355650', 'weight': 0}, '233880bb4c50d247f84edc9cac9e6e29_7806495859': {'event_ids': [77], 'inn': '7806495859', 'master_guid': '7b0bdb98f0a36507d283bc7989389524_7806495859', 'weight': 0}, '233880bb4c50d247f84edc9cac9e6e29_7816158919': {'event_ids': [77], 'inn': '7816158919', 'master_guid': '233880bb4c50d247f84edc9cac9e6e29_7816158919', 'weight': 0}}\"\n",
      "[\"master_guid': '233880bb4c50d247f84edc9cac9e6e29_2308194320\"]\n"
     ]
    }
   ],
   "source": [
    "# TODO: в задании имелось в виду, что нужно вытащить выделенный жирным текст\n",
    "import re\n",
    "with open(\"junior-program-master/data/rejson.txt\") as f:\n",
    "    s = f.read()\n",
    "    \n",
    "print(s)\n",
    "print(re.findall(r\"master_guid': '233880bb4c50d247f84edc9cac9e6e29_2308194320\", s))\n",
    "# re.findall(r\"'\\w*': '\\w*'\", s)\n"
   ]
  },
  {
   "cell_type": "markdown",
   "metadata": {},
   "source": [
    "# Pandas"
   ]
  },
  {
   "cell_type": "markdown",
   "metadata": {},
   "source": [
    "* Pandas в картинках\n",
    "\n",
    "https://jalammar.github.io/gentle-visual-intro-to-data-analysis-python-pandas/\n",
    "\n",
    "* 10 minutes to pandas\n",
    "\n",
    "https://pandas.pydata.org/pandas-docs/stable/getting_started/10min.html\n",
    "\n",
    "* 🐼реально классный твиттер чувака с крутыми pandas tricks:\n",
    "    \n",
    "https://mobile.twitter.com/i/moments/1158828895547854849"
   ]
  },
  {
   "cell_type": "markdown",
   "metadata": {},
   "source": [
    "<img src=\"gifs/inprogress.gif\" width=\"400\">"
   ]
  }
 ],
 "metadata": {
  "kernelspec": {
   "display_name": "Python 3",
   "language": "python",
   "name": "python3"
  },
  "language_info": {
   "codemirror_mode": {
    "name": "ipython",
    "version": 3
   },
   "file_extension": ".py",
   "mimetype": "text/x-python",
   "name": "python",
   "nbconvert_exporter": "python",
   "pygments_lexer": "ipython3",
   "version": "3.6.1"
  }
 },
 "nbformat": 4,
 "nbformat_minor": 4
}
